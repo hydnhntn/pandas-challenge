{
 "cells": [
  {
   "cell_type": "markdown",
   "metadata": {},
   "source": [
    "### Note\n",
    "* Instructions have been included for each segment. You do not have to follow them exactly, but they are included to help you think through the steps."
   ]
  },
  {
   "cell_type": "code",
   "execution_count": 1,
   "metadata": {},
   "outputs": [],
   "source": [
    "# Dependencies and Setup\n",
    "import pandas as pd\n",
    "\n",
    "# File to Load (Remember to Change These)\n",
    "file_to_load = \"Resources/purchase_data.csv\"\n",
    "\n",
    "# Read Purchasing File and store into Pandas data frame\n",
    "purchase_data = pd.read_csv(file_to_load)"
   ]
  },
  {
   "cell_type": "markdown",
   "metadata": {},
   "source": [
    "## Player Count"
   ]
  },
  {
   "cell_type": "markdown",
   "metadata": {},
   "source": [
    "* Display the total number of players\n"
   ]
  },
  {
   "cell_type": "code",
   "execution_count": 2,
   "metadata": {},
   "outputs": [
    {
     "data": {
      "text/html": [
       "<div>\n",
       "<style scoped>\n",
       "    .dataframe tbody tr th:only-of-type {\n",
       "        vertical-align: middle;\n",
       "    }\n",
       "\n",
       "    .dataframe tbody tr th {\n",
       "        vertical-align: top;\n",
       "    }\n",
       "\n",
       "    .dataframe thead th {\n",
       "        text-align: right;\n",
       "    }\n",
       "</style>\n",
       "<table border=\"1\" class=\"dataframe\">\n",
       "  <thead>\n",
       "    <tr style=\"text-align: right;\">\n",
       "      <th></th>\n",
       "      <th>Total Players</th>\n",
       "    </tr>\n",
       "  </thead>\n",
       "  <tbody>\n",
       "    <tr>\n",
       "      <th>0</th>\n",
       "      <td>576</td>\n",
       "    </tr>\n",
       "  </tbody>\n",
       "</table>\n",
       "</div>"
      ],
      "text/plain": [
       "   Total Players\n",
       "0            576"
      ]
     },
     "execution_count": 2,
     "metadata": {},
     "output_type": "execute_result"
    }
   ],
   "source": [
    "pd.DataFrame({\"Total Players\":[len(purchase_data[\"SN\"].unique())]})"
   ]
  },
  {
   "cell_type": "markdown",
   "metadata": {},
   "source": [
    "## Purchasing Analysis (Total)"
   ]
  },
  {
   "cell_type": "markdown",
   "metadata": {},
   "source": [
    "* Run basic calculations to obtain number of unique items, average price, etc.\n",
    "\n",
    "\n",
    "* Create a summary data frame to hold the results\n",
    "\n",
    "\n",
    "* Optional: give the displayed data cleaner formatting\n",
    "\n",
    "\n",
    "* Display the summary data frame\n"
   ]
  },
  {
   "cell_type": "code",
   "execution_count": 11,
   "metadata": {
    "scrolled": false
   },
   "outputs": [
    {
     "data": {
      "text/html": [
       "<style type=\"text/css\">\n",
       "</style>\n",
       "<table id=\"T_ee9c5_\">\n",
       "  <thead>\n",
       "    <tr>\n",
       "      <th class=\"blank level0\" >&nbsp;</th>\n",
       "      <th class=\"col_heading level0 col0\" >Number of Unique Items</th>\n",
       "      <th class=\"col_heading level0 col1\" >Average Price</th>\n",
       "      <th class=\"col_heading level0 col2\" >Number of Purchase</th>\n",
       "      <th class=\"col_heading level0 col3\" >Total Revenue</th>\n",
       "    </tr>\n",
       "  </thead>\n",
       "  <tbody>\n",
       "    <tr>\n",
       "      <th id=\"T_ee9c5_level0_row0\" class=\"row_heading level0 row0\" >0</th>\n",
       "      <td id=\"T_ee9c5_row0_col0\" class=\"data row0 col0\" >179</td>\n",
       "      <td id=\"T_ee9c5_row0_col1\" class=\"data row0 col1\" >$3.05</td>\n",
       "      <td id=\"T_ee9c5_row0_col2\" class=\"data row0 col2\" >780</td>\n",
       "      <td id=\"T_ee9c5_row0_col3\" class=\"data row0 col3\" >$2,379.77</td>\n",
       "    </tr>\n",
       "  </tbody>\n",
       "</table>\n"
      ],
      "text/plain": [
       "<pandas.io.formats.style.Styler at 0x2034ad77c10>"
      ]
     },
     "execution_count": 11,
     "metadata": {},
     "output_type": "execute_result"
    }
   ],
   "source": [
    "itemCount = len(purchase_data['Item ID'].unique())\n",
    "avgPrice = round(purchase_data['Price'].mean(),2)\n",
    "numPurchases = len(purchase_data['Purchase ID'])\n",
    "tRevenue = purchase_data['Price'].sum()\n",
    "\n",
    "summaryDf = pd.DataFrame({\n",
    "     'Number of Unique Items':[itemCount],\n",
    "    'Average Price':[avgPrice],\n",
    "    'Number of Purchase':[numPurchases],\n",
    "    'Total Revenue':[tRevenue]\n",
    "})\n",
    "summaryDf.style.format({\n",
    "    'Average Price' : '${0:,.2f}',\n",
    "    'Total Revenue' : '${0:,.2f}'\n",
    "})"
   ]
  },
  {
   "cell_type": "markdown",
   "metadata": {},
   "source": [
    "## Gender Demographics"
   ]
  },
  {
   "cell_type": "markdown",
   "metadata": {},
   "source": [
    "* Percentage and Count of Male Players\n",
    "\n",
    "\n",
    "* Percentage and Count of Female Players\n",
    "\n",
    "\n",
    "* Percentage and Count of Other / Non-Disclosed\n",
    "\n",
    "\n"
   ]
  },
  {
   "cell_type": "code",
   "execution_count": 22,
   "metadata": {},
   "outputs": [
    {
     "data": {
      "text/html": [
       "<style type=\"text/css\">\n",
       "</style>\n",
       "<table id=\"T_739f7_\">\n",
       "  <thead>\n",
       "    <tr>\n",
       "      <th class=\"blank level0\" >&nbsp;</th>\n",
       "      <th class=\"col_heading level0 col0\" >Total Count</th>\n",
       "      <th class=\"col_heading level0 col1\" >Percentage of Players</th>\n",
       "    </tr>\n",
       "    <tr>\n",
       "      <th class=\"index_name level0\" >Gender</th>\n",
       "      <th class=\"blank col0\" >&nbsp;</th>\n",
       "      <th class=\"blank col1\" >&nbsp;</th>\n",
       "    </tr>\n",
       "  </thead>\n",
       "  <tbody>\n",
       "    <tr>\n",
       "      <th id=\"T_739f7_level0_row0\" class=\"row_heading level0 row0\" >Male</th>\n",
       "      <td id=\"T_739f7_row0_col0\" class=\"data row0 col0\" >484</td>\n",
       "      <td id=\"T_739f7_row0_col1\" class=\"data row0 col1\" >84.03%</td>\n",
       "    </tr>\n",
       "    <tr>\n",
       "      <th id=\"T_739f7_level0_row1\" class=\"row_heading level0 row1\" >Female</th>\n",
       "      <td id=\"T_739f7_row1_col0\" class=\"data row1 col0\" >81</td>\n",
       "      <td id=\"T_739f7_row1_col1\" class=\"data row1 col1\" >14.06%</td>\n",
       "    </tr>\n",
       "    <tr>\n",
       "      <th id=\"T_739f7_level0_row2\" class=\"row_heading level0 row2\" >Other / Non-Disclosed</th>\n",
       "      <td id=\"T_739f7_row2_col0\" class=\"data row2 col0\" >11</td>\n",
       "      <td id=\"T_739f7_row2_col1\" class=\"data row2 col1\" >1.91%</td>\n",
       "    </tr>\n",
       "  </tbody>\n",
       "</table>\n"
      ],
      "text/plain": [
       "<pandas.io.formats.style.Styler at 0x20349dc5e80>"
      ]
     },
     "execution_count": 22,
     "metadata": {},
     "output_type": "execute_result"
    }
   ],
   "source": [
    "gender_group = purchase_data.groupby(['Gender'])\n",
    "\n",
    "gender_demo = pd.DataFrame({})\n",
    "\n",
    "gender_demo['Total Count'] = gender_group['SN'].nunique()\n",
    "gender_demo['Percentage of Players'] = 100*gender_demo['Total Count']/gender_demo['Total Count'].sum()\n",
    "\n",
    "gender_demo.sort_values(by=['Total Count'],ascending=False).head().style.format({\n",
    "   'Percentage of Players' : '{0:.2f}%'\n",
    "})\n"
   ]
  },
  {
   "cell_type": "markdown",
   "metadata": {},
   "source": [
    "\n",
    "## Purchasing Analysis (Gender)"
   ]
  },
  {
   "cell_type": "markdown",
   "metadata": {},
   "source": [
    "* Run basic calculations to obtain purchase count, avg. purchase price, avg. purchase total per person etc. by gender\n",
    "\n",
    "\n",
    "\n",
    "\n",
    "* Create a summary data frame to hold the results\n",
    "\n",
    "\n",
    "* Optional: give the displayed data cleaner formatting\n",
    "\n",
    "\n",
    "* Display the summary data frame"
   ]
  },
  {
   "cell_type": "code",
   "execution_count": 25,
   "metadata": {},
   "outputs": [
    {
     "data": {
      "text/html": [
       "<style type=\"text/css\">\n",
       "</style>\n",
       "<table id=\"T_97231_\">\n",
       "  <thead>\n",
       "    <tr>\n",
       "      <th class=\"blank level0\" >&nbsp;</th>\n",
       "      <th class=\"col_heading level0 col0\" >Purchase Count</th>\n",
       "      <th class=\"col_heading level0 col1\" >Average Purchase Price</th>\n",
       "      <th class=\"col_heading level0 col2\" >Total Purchase Value</th>\n",
       "      <th class=\"col_heading level0 col3\" >Avg Total Purchase per Person</th>\n",
       "    </tr>\n",
       "    <tr>\n",
       "      <th class=\"index_name level0\" >Gender</th>\n",
       "      <th class=\"blank col0\" >&nbsp;</th>\n",
       "      <th class=\"blank col1\" >&nbsp;</th>\n",
       "      <th class=\"blank col2\" >&nbsp;</th>\n",
       "      <th class=\"blank col3\" >&nbsp;</th>\n",
       "    </tr>\n",
       "  </thead>\n",
       "  <tbody>\n",
       "    <tr>\n",
       "      <th id=\"T_97231_level0_row0\" class=\"row_heading level0 row0\" >Female</th>\n",
       "      <td id=\"T_97231_row0_col0\" class=\"data row0 col0\" >113</td>\n",
       "      <td id=\"T_97231_row0_col1\" class=\"data row0 col1\" >$3.20</td>\n",
       "      <td id=\"T_97231_row0_col2\" class=\"data row0 col2\" >$361.94</td>\n",
       "      <td id=\"T_97231_row0_col3\" class=\"data row0 col3\" >$4.47</td>\n",
       "    </tr>\n",
       "    <tr>\n",
       "      <th id=\"T_97231_level0_row1\" class=\"row_heading level0 row1\" >Male</th>\n",
       "      <td id=\"T_97231_row1_col0\" class=\"data row1 col0\" >652</td>\n",
       "      <td id=\"T_97231_row1_col1\" class=\"data row1 col1\" >$3.02</td>\n",
       "      <td id=\"T_97231_row1_col2\" class=\"data row1 col2\" >$1,967.64</td>\n",
       "      <td id=\"T_97231_row1_col3\" class=\"data row1 col3\" >$4.07</td>\n",
       "    </tr>\n",
       "    <tr>\n",
       "      <th id=\"T_97231_level0_row2\" class=\"row_heading level0 row2\" >Other / Non-Disclosed</th>\n",
       "      <td id=\"T_97231_row2_col0\" class=\"data row2 col0\" >15</td>\n",
       "      <td id=\"T_97231_row2_col1\" class=\"data row2 col1\" >$3.35</td>\n",
       "      <td id=\"T_97231_row2_col2\" class=\"data row2 col2\" >$50.19</td>\n",
       "      <td id=\"T_97231_row2_col3\" class=\"data row2 col3\" >$4.56</td>\n",
       "    </tr>\n",
       "  </tbody>\n",
       "</table>\n"
      ],
      "text/plain": [
       "<pandas.io.formats.style.Styler at 0x2034ac81640>"
      ]
     },
     "execution_count": 25,
     "metadata": {},
     "output_type": "execute_result"
    }
   ],
   "source": [
    "gender_summary = pd.DataFrame({})\n",
    "\n",
    "gender_summary['Purchase Count'] = gender_group['Purchase ID'].count()\n",
    "gender_summary['Average Purchase Price'] = gender_group['Price'].mean()\n",
    "gender_summary['Total Purchase Value'] = gender_group['Price'].sum()\n",
    "gender_summary['Avg Total Purchase per Person'] = gender_summary['Total Purchase Value']/gender_group['SN'].nunique()\n",
    "\n",
    "gender_summary.head().style.format({\n",
    "    'Average Purchase Price' : '${0:,.2f}',\n",
    "    'Total Purchase Value' : '${0:,.2f}',\n",
    "    'Avg Total Purchase per Person' : '${0:,.2f}'\n",
    "})"
   ]
  },
  {
   "cell_type": "markdown",
   "metadata": {},
   "source": [
    "## Age Demographics"
   ]
  },
  {
   "cell_type": "markdown",
   "metadata": {},
   "source": [
    "* Establish bins for ages\n",
    "\n",
    "\n",
    "* Categorize the existing players using the age bins. Hint: use pd.cut()\n",
    "\n",
    "\n",
    "* Calculate the numbers and percentages by age group\n",
    "\n",
    "\n",
    "* Create a summary data frame to hold the results\n",
    "\n",
    "\n",
    "* Optional: round the percentage column to two decimal points\n",
    "\n",
    "\n",
    "* Display Age Demographics Table\n"
   ]
  },
  {
   "cell_type": "code",
   "execution_count": 29,
   "metadata": {},
   "outputs": [
    {
     "data": {
      "text/html": [
       "<style type=\"text/css\">\n",
       "</style>\n",
       "<table id=\"T_66468_\">\n",
       "  <thead>\n",
       "    <tr>\n",
       "      <th class=\"blank level0\" >&nbsp;</th>\n",
       "      <th class=\"col_heading level0 col0\" >Total Count</th>\n",
       "      <th class=\"col_heading level0 col1\" >Percentage of Players</th>\n",
       "    </tr>\n",
       "    <tr>\n",
       "      <th class=\"index_name level0\" >Age Range</th>\n",
       "      <th class=\"blank col0\" >&nbsp;</th>\n",
       "      <th class=\"blank col1\" >&nbsp;</th>\n",
       "    </tr>\n",
       "  </thead>\n",
       "  <tbody>\n",
       "    <tr>\n",
       "      <th id=\"T_66468_level0_row0\" class=\"row_heading level0 row0\" ><10</th>\n",
       "      <td id=\"T_66468_row0_col0\" class=\"data row0 col0\" >17</td>\n",
       "      <td id=\"T_66468_row0_col1\" class=\"data row0 col1\" >2.95%</td>\n",
       "    </tr>\n",
       "    <tr>\n",
       "      <th id=\"T_66468_level0_row1\" class=\"row_heading level0 row1\" >10-14</th>\n",
       "      <td id=\"T_66468_row1_col0\" class=\"data row1 col0\" >22</td>\n",
       "      <td id=\"T_66468_row1_col1\" class=\"data row1 col1\" >3.82%</td>\n",
       "    </tr>\n",
       "    <tr>\n",
       "      <th id=\"T_66468_level0_row2\" class=\"row_heading level0 row2\" >15-19</th>\n",
       "      <td id=\"T_66468_row2_col0\" class=\"data row2 col0\" >107</td>\n",
       "      <td id=\"T_66468_row2_col1\" class=\"data row2 col1\" >18.58%</td>\n",
       "    </tr>\n",
       "    <tr>\n",
       "      <th id=\"T_66468_level0_row3\" class=\"row_heading level0 row3\" >20-24</th>\n",
       "      <td id=\"T_66468_row3_col0\" class=\"data row3 col0\" >258</td>\n",
       "      <td id=\"T_66468_row3_col1\" class=\"data row3 col1\" >44.79%</td>\n",
       "    </tr>\n",
       "    <tr>\n",
       "      <th id=\"T_66468_level0_row4\" class=\"row_heading level0 row4\" >25-29</th>\n",
       "      <td id=\"T_66468_row4_col0\" class=\"data row4 col0\" >77</td>\n",
       "      <td id=\"T_66468_row4_col1\" class=\"data row4 col1\" >13.37%</td>\n",
       "    </tr>\n",
       "    <tr>\n",
       "      <th id=\"T_66468_level0_row5\" class=\"row_heading level0 row5\" >30-34</th>\n",
       "      <td id=\"T_66468_row5_col0\" class=\"data row5 col0\" >52</td>\n",
       "      <td id=\"T_66468_row5_col1\" class=\"data row5 col1\" >9.03%</td>\n",
       "    </tr>\n",
       "    <tr>\n",
       "      <th id=\"T_66468_level0_row6\" class=\"row_heading level0 row6\" >35-39</th>\n",
       "      <td id=\"T_66468_row6_col0\" class=\"data row6 col0\" >31</td>\n",
       "      <td id=\"T_66468_row6_col1\" class=\"data row6 col1\" >5.38%</td>\n",
       "    </tr>\n",
       "    <tr>\n",
       "      <th id=\"T_66468_level0_row7\" class=\"row_heading level0 row7\" >40+</th>\n",
       "      <td id=\"T_66468_row7_col0\" class=\"data row7 col0\" >12</td>\n",
       "      <td id=\"T_66468_row7_col1\" class=\"data row7 col1\" >2.08%</td>\n",
       "    </tr>\n",
       "  </tbody>\n",
       "</table>\n"
      ],
      "text/plain": [
       "<pandas.io.formats.style.Styler at 0x2034ad77a00>"
      ]
     },
     "execution_count": 29,
     "metadata": {},
     "output_type": "execute_result"
    }
   ],
   "source": [
    "bins =[0,9,14,19,24,29,34,39,999]\n",
    "bin_labels = [\"<10\", \"10-14\", \"15-19\", \"20-24\", \"25-29\", \"30-34\", \"35-39\", \"40+\"]\n",
    "\n",
    "purchase_data['Age Range'] = pd.cut(purchase_data['Age'], bins, labels=bin_labels, include_lowest=True)\n",
    "age_group = purchase_data.groupby('Age Range')\n",
    "\n",
    "age_summary = pd.DataFrame({})\n",
    "\n",
    "age_summary['Total Count'] = age_group['SN'].nunique()\n",
    "age_summary['Percentage of Players'] = 100*age_summary['Total Count']/age_summary['Total Count'].sum()\n",
    "\n",
    "age_summary.style.format({\n",
    "    'Percentage of Players' : '{0:,.2f}%'\n",
    "})"
   ]
  },
  {
   "cell_type": "markdown",
   "metadata": {},
   "source": [
    "## Purchasing Analysis (Age)"
   ]
  },
  {
   "cell_type": "markdown",
   "metadata": {},
   "source": [
    "* Bin the purchase_data data frame by age\n",
    "\n",
    "\n",
    "* Run basic calculations to obtain purchase count, avg. purchase price, avg. purchase total per person etc. in the table below\n",
    "\n",
    "\n",
    "* Create a summary data frame to hold the results\n",
    "\n",
    "\n",
    "* Optional: give the displayed data cleaner formatting\n",
    "\n",
    "\n",
    "* Display the summary data frame"
   ]
  },
  {
   "cell_type": "code",
   "execution_count": 31,
   "metadata": {},
   "outputs": [
    {
     "data": {
      "text/html": [
       "<style type=\"text/css\">\n",
       "</style>\n",
       "<table id=\"T_22898_\">\n",
       "  <thead>\n",
       "    <tr>\n",
       "      <th class=\"blank level0\" >&nbsp;</th>\n",
       "      <th class=\"col_heading level0 col0\" >Purchase Count</th>\n",
       "      <th class=\"col_heading level0 col1\" >Average Purchase Price</th>\n",
       "      <th class=\"col_heading level0 col2\" >Total Purchase Value</th>\n",
       "      <th class=\"col_heading level0 col3\" >Average Total Purchase per Person</th>\n",
       "    </tr>\n",
       "    <tr>\n",
       "      <th class=\"index_name level0\" >Age Range</th>\n",
       "      <th class=\"blank col0\" >&nbsp;</th>\n",
       "      <th class=\"blank col1\" >&nbsp;</th>\n",
       "      <th class=\"blank col2\" >&nbsp;</th>\n",
       "      <th class=\"blank col3\" >&nbsp;</th>\n",
       "    </tr>\n",
       "  </thead>\n",
       "  <tbody>\n",
       "    <tr>\n",
       "      <th id=\"T_22898_level0_row0\" class=\"row_heading level0 row0\" ><10</th>\n",
       "      <td id=\"T_22898_row0_col0\" class=\"data row0 col0\" >23</td>\n",
       "      <td id=\"T_22898_row0_col1\" class=\"data row0 col1\" >$3.35</td>\n",
       "      <td id=\"T_22898_row0_col2\" class=\"data row0 col2\" >$77.13</td>\n",
       "      <td id=\"T_22898_row0_col3\" class=\"data row0 col3\" >$4.54</td>\n",
       "    </tr>\n",
       "    <tr>\n",
       "      <th id=\"T_22898_level0_row1\" class=\"row_heading level0 row1\" >10-14</th>\n",
       "      <td id=\"T_22898_row1_col0\" class=\"data row1 col0\" >28</td>\n",
       "      <td id=\"T_22898_row1_col1\" class=\"data row1 col1\" >$2.96</td>\n",
       "      <td id=\"T_22898_row1_col2\" class=\"data row1 col2\" >$82.78</td>\n",
       "      <td id=\"T_22898_row1_col3\" class=\"data row1 col3\" >$3.76</td>\n",
       "    </tr>\n",
       "    <tr>\n",
       "      <th id=\"T_22898_level0_row2\" class=\"row_heading level0 row2\" >15-19</th>\n",
       "      <td id=\"T_22898_row2_col0\" class=\"data row2 col0\" >136</td>\n",
       "      <td id=\"T_22898_row2_col1\" class=\"data row2 col1\" >$3.04</td>\n",
       "      <td id=\"T_22898_row2_col2\" class=\"data row2 col2\" >$412.89</td>\n",
       "      <td id=\"T_22898_row2_col3\" class=\"data row2 col3\" >$3.86</td>\n",
       "    </tr>\n",
       "    <tr>\n",
       "      <th id=\"T_22898_level0_row3\" class=\"row_heading level0 row3\" >20-24</th>\n",
       "      <td id=\"T_22898_row3_col0\" class=\"data row3 col0\" >365</td>\n",
       "      <td id=\"T_22898_row3_col1\" class=\"data row3 col1\" >$3.05</td>\n",
       "      <td id=\"T_22898_row3_col2\" class=\"data row3 col2\" >$1,114.06</td>\n",
       "      <td id=\"T_22898_row3_col3\" class=\"data row3 col3\" >$4.32</td>\n",
       "    </tr>\n",
       "    <tr>\n",
       "      <th id=\"T_22898_level0_row4\" class=\"row_heading level0 row4\" >25-29</th>\n",
       "      <td id=\"T_22898_row4_col0\" class=\"data row4 col0\" >101</td>\n",
       "      <td id=\"T_22898_row4_col1\" class=\"data row4 col1\" >$2.90</td>\n",
       "      <td id=\"T_22898_row4_col2\" class=\"data row4 col2\" >$293.00</td>\n",
       "      <td id=\"T_22898_row4_col3\" class=\"data row4 col3\" >$3.81</td>\n",
       "    </tr>\n",
       "    <tr>\n",
       "      <th id=\"T_22898_level0_row5\" class=\"row_heading level0 row5\" >30-34</th>\n",
       "      <td id=\"T_22898_row5_col0\" class=\"data row5 col0\" >73</td>\n",
       "      <td id=\"T_22898_row5_col1\" class=\"data row5 col1\" >$2.93</td>\n",
       "      <td id=\"T_22898_row5_col2\" class=\"data row5 col2\" >$214.00</td>\n",
       "      <td id=\"T_22898_row5_col3\" class=\"data row5 col3\" >$4.12</td>\n",
       "    </tr>\n",
       "    <tr>\n",
       "      <th id=\"T_22898_level0_row6\" class=\"row_heading level0 row6\" >35-39</th>\n",
       "      <td id=\"T_22898_row6_col0\" class=\"data row6 col0\" >41</td>\n",
       "      <td id=\"T_22898_row6_col1\" class=\"data row6 col1\" >$3.60</td>\n",
       "      <td id=\"T_22898_row6_col2\" class=\"data row6 col2\" >$147.67</td>\n",
       "      <td id=\"T_22898_row6_col3\" class=\"data row6 col3\" >$4.76</td>\n",
       "    </tr>\n",
       "    <tr>\n",
       "      <th id=\"T_22898_level0_row7\" class=\"row_heading level0 row7\" >40+</th>\n",
       "      <td id=\"T_22898_row7_col0\" class=\"data row7 col0\" >13</td>\n",
       "      <td id=\"T_22898_row7_col1\" class=\"data row7 col1\" >$2.94</td>\n",
       "      <td id=\"T_22898_row7_col2\" class=\"data row7 col2\" >$38.24</td>\n",
       "      <td id=\"T_22898_row7_col3\" class=\"data row7 col3\" >$3.19</td>\n",
       "    </tr>\n",
       "  </tbody>\n",
       "</table>\n"
      ],
      "text/plain": [
       "<pandas.io.formats.style.Styler at 0x2034aea49d0>"
      ]
     },
     "execution_count": 31,
     "metadata": {},
     "output_type": "execute_result"
    }
   ],
   "source": [
    "age_summary = pd.DataFrame({})\n",
    "\n",
    "age_summary['Purchase Count'] = age_group['Purchase ID'].count()\n",
    "age_summary['Average Purchase Price'] = age_group['Price'].mean()\n",
    "age_summary['Total Purchase Value'] = age_group['Price'].sum()\n",
    "age_summary['Average Total Purchase per Person'] = age_summary['Total Purchase Value']/age_group['SN'].nunique()\n",
    "\n",
    "age_summary.style.format({\n",
    "    'Average Purchase Price' : '${0:,.2f}',\n",
    "    'Total Purchase Value' : '${0:,.2f}',\n",
    "    'Average Total Purchase per Person' : '${0:,.2f}'\n",
    "})"
   ]
  },
  {
   "cell_type": "markdown",
   "metadata": {},
   "source": [
    "## Top Spenders"
   ]
  },
  {
   "cell_type": "markdown",
   "metadata": {},
   "source": [
    "* Run basic calculations to obtain the results in the table below\n",
    "\n",
    "\n",
    "* Create a summary data frame to hold the results\n",
    "\n",
    "\n",
    "* Sort the total purchase value column in descending order\n",
    "\n",
    "\n",
    "* Optional: give the displayed data cleaner formatting\n",
    "\n",
    "\n",
    "* Display a preview of the summary data frame\n",
    "\n"
   ]
  },
  {
   "cell_type": "code",
   "execution_count": 32,
   "metadata": {},
   "outputs": [
    {
     "data": {
      "text/html": [
       "<style type=\"text/css\">\n",
       "</style>\n",
       "<table id=\"T_a35c6_\">\n",
       "  <thead>\n",
       "    <tr>\n",
       "      <th class=\"blank level0\" >&nbsp;</th>\n",
       "      <th class=\"col_heading level0 col0\" >Purchase Count</th>\n",
       "      <th class=\"col_heading level0 col1\" >Average Purchase Price</th>\n",
       "      <th class=\"col_heading level0 col2\" >Total Purchase Value</th>\n",
       "    </tr>\n",
       "    <tr>\n",
       "      <th class=\"index_name level0\" >SN</th>\n",
       "      <th class=\"blank col0\" >&nbsp;</th>\n",
       "      <th class=\"blank col1\" >&nbsp;</th>\n",
       "      <th class=\"blank col2\" >&nbsp;</th>\n",
       "    </tr>\n",
       "  </thead>\n",
       "  <tbody>\n",
       "    <tr>\n",
       "      <th id=\"T_a35c6_level0_row0\" class=\"row_heading level0 row0\" >Lisosia93</th>\n",
       "      <td id=\"T_a35c6_row0_col0\" class=\"data row0 col0\" >5</td>\n",
       "      <td id=\"T_a35c6_row0_col1\" class=\"data row0 col1\" >$3.79</td>\n",
       "      <td id=\"T_a35c6_row0_col2\" class=\"data row0 col2\" >$18.96</td>\n",
       "    </tr>\n",
       "    <tr>\n",
       "      <th id=\"T_a35c6_level0_row1\" class=\"row_heading level0 row1\" >Idastidru52</th>\n",
       "      <td id=\"T_a35c6_row1_col0\" class=\"data row1 col0\" >4</td>\n",
       "      <td id=\"T_a35c6_row1_col1\" class=\"data row1 col1\" >$3.86</td>\n",
       "      <td id=\"T_a35c6_row1_col2\" class=\"data row1 col2\" >$15.45</td>\n",
       "    </tr>\n",
       "    <tr>\n",
       "      <th id=\"T_a35c6_level0_row2\" class=\"row_heading level0 row2\" >Chamjask73</th>\n",
       "      <td id=\"T_a35c6_row2_col0\" class=\"data row2 col0\" >3</td>\n",
       "      <td id=\"T_a35c6_row2_col1\" class=\"data row2 col1\" >$4.61</td>\n",
       "      <td id=\"T_a35c6_row2_col2\" class=\"data row2 col2\" >$13.83</td>\n",
       "    </tr>\n",
       "    <tr>\n",
       "      <th id=\"T_a35c6_level0_row3\" class=\"row_heading level0 row3\" >Iral74</th>\n",
       "      <td id=\"T_a35c6_row3_col0\" class=\"data row3 col0\" >4</td>\n",
       "      <td id=\"T_a35c6_row3_col1\" class=\"data row3 col1\" >$3.41</td>\n",
       "      <td id=\"T_a35c6_row3_col2\" class=\"data row3 col2\" >$13.62</td>\n",
       "    </tr>\n",
       "    <tr>\n",
       "      <th id=\"T_a35c6_level0_row4\" class=\"row_heading level0 row4\" >Iskadarya95</th>\n",
       "      <td id=\"T_a35c6_row4_col0\" class=\"data row4 col0\" >3</td>\n",
       "      <td id=\"T_a35c6_row4_col1\" class=\"data row4 col1\" >$4.37</td>\n",
       "      <td id=\"T_a35c6_row4_col2\" class=\"data row4 col2\" >$13.10</td>\n",
       "    </tr>\n",
       "  </tbody>\n",
       "</table>\n"
      ],
      "text/plain": [
       "<pandas.io.formats.style.Styler at 0x2034ae988e0>"
      ]
     },
     "execution_count": 32,
     "metadata": {},
     "output_type": "execute_result"
    }
   ],
   "source": [
    "sn_group = purchase_data.groupby('SN')\n",
    "\n",
    "top_spenders = pd.DataFrame({})\n",
    "\n",
    "top_spenders['Purchase Count'] = sn_group['Purchase ID'].count()\n",
    "top_spenders['Average Purchase Price'] = sn_group['Price'].mean()\n",
    "top_spenders['Total Purchase Value'] = sn_group['Price'].sum()\n",
    "\n",
    "\n",
    "top_spenders.sort_values(by=['Total Purchase Value'],ascending=False).head().style.format({\n",
    "    'Average Purchase Price' : '${0:,.2f}',\n",
    "    'Total Purchase Value' : '${0:,.2f}'\n",
    "})\n"
   ]
  },
  {
   "cell_type": "markdown",
   "metadata": {},
   "source": [
    "## Most Popular Items"
   ]
  },
  {
   "cell_type": "markdown",
   "metadata": {},
   "source": [
    "* Retrieve the Item ID, Item Name, and Item Price columns\n",
    "\n",
    "\n",
    "* Group by Item ID and Item Name. Perform calculations to obtain purchase count, average item price, and total purchase value\n",
    "\n",
    "\n",
    "* Create a summary data frame to hold the results\n",
    "\n",
    "\n",
    "* Sort the purchase count column in descending order\n",
    "\n",
    "\n",
    "* Optional: give the displayed data cleaner formatting\n",
    "\n",
    "\n",
    "* Display a preview of the summary data frame\n",
    "\n"
   ]
  },
  {
   "cell_type": "code",
   "execution_count": 33,
   "metadata": {},
   "outputs": [
    {
     "data": {
      "text/html": [
       "<style type=\"text/css\">\n",
       "</style>\n",
       "<table id=\"T_1db89_\">\n",
       "  <thead>\n",
       "    <tr>\n",
       "      <th class=\"blank\" >&nbsp;</th>\n",
       "      <th class=\"blank level0\" >&nbsp;</th>\n",
       "      <th class=\"col_heading level0 col0\" >Purchase Count</th>\n",
       "      <th class=\"col_heading level0 col1\" >Item Price</th>\n",
       "      <th class=\"col_heading level0 col2\" >Total Purchase Value</th>\n",
       "    </tr>\n",
       "    <tr>\n",
       "      <th class=\"index_name level0\" >Item ID</th>\n",
       "      <th class=\"index_name level1\" >Item Name</th>\n",
       "      <th class=\"blank col0\" >&nbsp;</th>\n",
       "      <th class=\"blank col1\" >&nbsp;</th>\n",
       "      <th class=\"blank col2\" >&nbsp;</th>\n",
       "    </tr>\n",
       "  </thead>\n",
       "  <tbody>\n",
       "    <tr>\n",
       "      <th id=\"T_1db89_level0_row0\" class=\"row_heading level0 row0\" >92</th>\n",
       "      <th id=\"T_1db89_level1_row0\" class=\"row_heading level1 row0\" >Final Critic</th>\n",
       "      <td id=\"T_1db89_row0_col0\" class=\"data row0 col0\" >13</td>\n",
       "      <td id=\"T_1db89_row0_col1\" class=\"data row0 col1\" >$4.61</td>\n",
       "      <td id=\"T_1db89_row0_col2\" class=\"data row0 col2\" >$59.99</td>\n",
       "    </tr>\n",
       "    <tr>\n",
       "      <th id=\"T_1db89_level0_row1\" class=\"row_heading level0 row1\" >178</th>\n",
       "      <th id=\"T_1db89_level1_row1\" class=\"row_heading level1 row1\" >Oathbreaker, Last Hope of the Breaking Storm</th>\n",
       "      <td id=\"T_1db89_row1_col0\" class=\"data row1 col0\" >12</td>\n",
       "      <td id=\"T_1db89_row1_col1\" class=\"data row1 col1\" >$4.23</td>\n",
       "      <td id=\"T_1db89_row1_col2\" class=\"data row1 col2\" >$50.76</td>\n",
       "    </tr>\n",
       "    <tr>\n",
       "      <th id=\"T_1db89_level0_row2\" class=\"row_heading level0 row2\" >145</th>\n",
       "      <th id=\"T_1db89_level1_row2\" class=\"row_heading level1 row2\" >Fiery Glass Crusader</th>\n",
       "      <td id=\"T_1db89_row2_col0\" class=\"data row2 col0\" >9</td>\n",
       "      <td id=\"T_1db89_row2_col1\" class=\"data row2 col1\" >$4.58</td>\n",
       "      <td id=\"T_1db89_row2_col2\" class=\"data row2 col2\" >$41.22</td>\n",
       "    </tr>\n",
       "    <tr>\n",
       "      <th id=\"T_1db89_level0_row3\" class=\"row_heading level0 row3\" >132</th>\n",
       "      <th id=\"T_1db89_level1_row3\" class=\"row_heading level1 row3\" >Persuasion</th>\n",
       "      <td id=\"T_1db89_row3_col0\" class=\"data row3 col0\" >9</td>\n",
       "      <td id=\"T_1db89_row3_col1\" class=\"data row3 col1\" >$3.22</td>\n",
       "      <td id=\"T_1db89_row3_col2\" class=\"data row3 col2\" >$28.99</td>\n",
       "    </tr>\n",
       "    <tr>\n",
       "      <th id=\"T_1db89_level0_row4\" class=\"row_heading level0 row4\" >108</th>\n",
       "      <th id=\"T_1db89_level1_row4\" class=\"row_heading level1 row4\" >Extraction, Quickblade Of Trembling Hands</th>\n",
       "      <td id=\"T_1db89_row4_col0\" class=\"data row4 col0\" >9</td>\n",
       "      <td id=\"T_1db89_row4_col1\" class=\"data row4 col1\" >$3.53</td>\n",
       "      <td id=\"T_1db89_row4_col2\" class=\"data row4 col2\" >$31.77</td>\n",
       "    </tr>\n",
       "  </tbody>\n",
       "</table>\n"
      ],
      "text/plain": [
       "<pandas.io.formats.style.Styler at 0x2034ae98a30>"
      ]
     },
     "execution_count": 33,
     "metadata": {},
     "output_type": "execute_result"
    }
   ],
   "source": [
    "pop = purchase_data[['Item ID','Item Name','Price']]\n",
    "pop_group = pop.groupby(['Item ID','Item Name'])\n",
    "\n",
    "pop_summary = pd.DataFrame({})\n",
    "\n",
    "pop_summary['Purchase Count'] = pop_group['Item ID'].count()\n",
    "pop_summary['Item Price'] = pop_group['Price'].mean()\n",
    "pop_summary['Total Purchase Value'] = pop_group['Price'].sum()\n",
    "\n",
    "pop_summary.sort_values(by=['Purchase Count'],ascending=False).head().style.format({\n",
    "    'Item Price' : '${0:,.2f}',\n",
    "    'Total Purchase Value' : '${0:,.2f}'\n",
    "})"
   ]
  },
  {
   "cell_type": "markdown",
   "metadata": {},
   "source": [
    "## Most Profitable Items"
   ]
  },
  {
   "cell_type": "markdown",
   "metadata": {},
   "source": [
    "* Sort the above table by total purchase value in descending order\n",
    "\n",
    "\n",
    "* Optional: give the displayed data cleaner formatting\n",
    "\n",
    "\n",
    "* Display a preview of the data frame\n",
    "\n"
   ]
  },
  {
   "cell_type": "code",
   "execution_count": 34,
   "metadata": {},
   "outputs": [
    {
     "data": {
      "text/html": [
       "<style type=\"text/css\">\n",
       "</style>\n",
       "<table id=\"T_e25a0_\">\n",
       "  <thead>\n",
       "    <tr>\n",
       "      <th class=\"blank\" >&nbsp;</th>\n",
       "      <th class=\"blank level0\" >&nbsp;</th>\n",
       "      <th class=\"col_heading level0 col0\" >Purchase Count</th>\n",
       "      <th class=\"col_heading level0 col1\" >Item Price</th>\n",
       "      <th class=\"col_heading level0 col2\" >Total Purchase Value</th>\n",
       "    </tr>\n",
       "    <tr>\n",
       "      <th class=\"index_name level0\" >Item ID</th>\n",
       "      <th class=\"index_name level1\" >Item Name</th>\n",
       "      <th class=\"blank col0\" >&nbsp;</th>\n",
       "      <th class=\"blank col1\" >&nbsp;</th>\n",
       "      <th class=\"blank col2\" >&nbsp;</th>\n",
       "    </tr>\n",
       "  </thead>\n",
       "  <tbody>\n",
       "    <tr>\n",
       "      <th id=\"T_e25a0_level0_row0\" class=\"row_heading level0 row0\" >92</th>\n",
       "      <th id=\"T_e25a0_level1_row0\" class=\"row_heading level1 row0\" >Final Critic</th>\n",
       "      <td id=\"T_e25a0_row0_col0\" class=\"data row0 col0\" >13</td>\n",
       "      <td id=\"T_e25a0_row0_col1\" class=\"data row0 col1\" >$4.61</td>\n",
       "      <td id=\"T_e25a0_row0_col2\" class=\"data row0 col2\" >$59.99</td>\n",
       "    </tr>\n",
       "    <tr>\n",
       "      <th id=\"T_e25a0_level0_row1\" class=\"row_heading level0 row1\" >178</th>\n",
       "      <th id=\"T_e25a0_level1_row1\" class=\"row_heading level1 row1\" >Oathbreaker, Last Hope of the Breaking Storm</th>\n",
       "      <td id=\"T_e25a0_row1_col0\" class=\"data row1 col0\" >12</td>\n",
       "      <td id=\"T_e25a0_row1_col1\" class=\"data row1 col1\" >$4.23</td>\n",
       "      <td id=\"T_e25a0_row1_col2\" class=\"data row1 col2\" >$50.76</td>\n",
       "    </tr>\n",
       "    <tr>\n",
       "      <th id=\"T_e25a0_level0_row2\" class=\"row_heading level0 row2\" >82</th>\n",
       "      <th id=\"T_e25a0_level1_row2\" class=\"row_heading level1 row2\" >Nirvana</th>\n",
       "      <td id=\"T_e25a0_row2_col0\" class=\"data row2 col0\" >9</td>\n",
       "      <td id=\"T_e25a0_row2_col1\" class=\"data row2 col1\" >$4.90</td>\n",
       "      <td id=\"T_e25a0_row2_col2\" class=\"data row2 col2\" >$44.10</td>\n",
       "    </tr>\n",
       "    <tr>\n",
       "      <th id=\"T_e25a0_level0_row3\" class=\"row_heading level0 row3\" >145</th>\n",
       "      <th id=\"T_e25a0_level1_row3\" class=\"row_heading level1 row3\" >Fiery Glass Crusader</th>\n",
       "      <td id=\"T_e25a0_row3_col0\" class=\"data row3 col0\" >9</td>\n",
       "      <td id=\"T_e25a0_row3_col1\" class=\"data row3 col1\" >$4.58</td>\n",
       "      <td id=\"T_e25a0_row3_col2\" class=\"data row3 col2\" >$41.22</td>\n",
       "    </tr>\n",
       "    <tr>\n",
       "      <th id=\"T_e25a0_level0_row4\" class=\"row_heading level0 row4\" >103</th>\n",
       "      <th id=\"T_e25a0_level1_row4\" class=\"row_heading level1 row4\" >Singed Scalpel</th>\n",
       "      <td id=\"T_e25a0_row4_col0\" class=\"data row4 col0\" >8</td>\n",
       "      <td id=\"T_e25a0_row4_col1\" class=\"data row4 col1\" >$4.35</td>\n",
       "      <td id=\"T_e25a0_row4_col2\" class=\"data row4 col2\" >$34.80</td>\n",
       "    </tr>\n",
       "  </tbody>\n",
       "</table>\n"
      ],
      "text/plain": [
       "<pandas.io.formats.style.Styler at 0x20349e4a940>"
      ]
     },
     "execution_count": 34,
     "metadata": {},
     "output_type": "execute_result"
    }
   ],
   "source": [
    "pop_summary.sort_values(by=['Total Purchase Value'],ascending=False).head().style.format({\n",
    "    'Item Price' : '${0:,.2f}',\n",
    "    'Total Purchase Value' : '${0:,.2f}'\n",
    "})"
   ]
  },
  {
   "cell_type": "code",
   "execution_count": null,
   "metadata": {},
   "outputs": [],
   "source": []
  }
 ],
 "metadata": {
  "anaconda-cloud": {},
  "kernel_info": {
   "name": "python3"
  },
  "kernelspec": {
   "display_name": "Python 3 (ipykernel)",
   "language": "python",
   "name": "python3"
  },
  "language_info": {
   "codemirror_mode": {
    "name": "ipython",
    "version": 3
   },
   "file_extension": ".py",
   "mimetype": "text/x-python",
   "name": "python",
   "nbconvert_exporter": "python",
   "pygments_lexer": "ipython3",
   "version": "3.9.7"
  },
  "latex_envs": {
   "LaTeX_envs_menu_present": true,
   "autoclose": false,
   "autocomplete": true,
   "bibliofile": "biblio.bib",
   "cite_by": "apalike",
   "current_citInitial": 1,
   "eqLabelWithNumbers": true,
   "eqNumInitial": 1,
   "hotkeys": {
    "equation": "Ctrl-E",
    "itemize": "Ctrl-I"
   },
   "labels_anchors": false,
   "latex_user_defs": false,
   "report_style_numbering": false,
   "user_envs_cfg": false
  },
  "nteract": {
   "version": "0.2.0"
  }
 },
 "nbformat": 4,
 "nbformat_minor": 2
}
